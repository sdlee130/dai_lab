{
 "cells": [
  {
   "cell_type": "code",
   "execution_count": 1,
   "id": "e643c0f4-f781-48f1-8d73-b25e329152f0",
   "metadata": {
    "scrolled": true
   },
   "outputs": [],
   "source": [
    "# !pip install --upgrade pip\n",
    "# !pip install google-generativeai --upgrade\n",
    "# !pip install pandas"
   ]
  },
  {
   "cell_type": "code",
   "execution_count": 2,
   "id": "233c5f0e-65ee-4d31-863c-8bb292f4cb8a",
   "metadata": {},
   "outputs": [],
   "source": [
    "import google.generativeai as gemini\n",
    "\n",
    "GOOGLE_API_KEY = \"**\"\n",
    "\n",
    "gemini.configure(api_key=GOOGLE_API_KEY)\n",
    "model = gemini.GenerativeModel('gemini-pro')"
   ]
  },
  {
   "cell_type": "code",
   "execution_count": 3,
   "id": "3305e77a-c1c1-4663-b986-7efe4a4a6211",
   "metadata": {},
   "outputs": [],
   "source": [
    "file_name = \"smollm_360M_cosmo\"\n",
    "# llama3.2_1B_cosmo 75.1\n",
    "# opt_1.3B_cosmo 77.23\n",
    "# smallama_101M_cosmo 51.65\n",
    "# smollm_360M_cosmo 76.08"
   ]
  },
  {
   "cell_type": "code",
   "execution_count": 4,
   "id": "2f500097-036a-4ddc-a7d6-83f6dca8b37b",
   "metadata": {},
   "outputs": [],
   "source": [
    "import pandas as pd\n",
    "\n",
    "test_result = pd.read_csv('./'+file_name+'.csv', encoding='utf-8', index_col=0)"
   ]
  },
  {
   "cell_type": "code",
   "execution_count": 5,
   "id": "1ce01d08-3925-4b08-a8d1-5046eaf169c2",
   "metadata": {},
   "outputs": [],
   "source": [
    "def format_prompt(sample):\n",
    "\treturn f\"\"\"Prompt:\n",
    "Based on the provided instructions, please rate how well the story follows the instructions on a scale of 0 to 100.\\\n",
    "Provide only the score.\n",
    " \n",
    "Instruction:\n",
    "{sample['prompt']}\n",
    " \n",
    "Generated Story:\n",
    "{sample['gen_story']}\n",
    "\"\"\""
   ]
  },
  {
   "cell_type": "code",
   "execution_count": 6,
   "id": "f73ffccb-fa7c-4879-a7cc-b1bffe34a03e",
   "metadata": {},
   "outputs": [
    {
     "name": "stderr",
     "output_type": "stream",
     "text": [
      "                                                                                                         \r"
     ]
    }
   ],
   "source": [
    "from tqdm import tqdm\n",
    "from google.generativeai.types import HarmCategory, HarmBlockThreshold\n",
    "import time\n",
    "\n",
    "score = []\n",
    "for i, result in tqdm(test_result.iterrows(), total=len(test_result), leave=False):\n",
    "    prompt = format_prompt(result)\n",
    "    response = model.generate_content(prompt,\n",
    "                                     safety_settings={\n",
    "                                         HarmCategory.HARM_CATEGORY_SEXUALLY_EXPLICIT: HarmBlockThreshold.BLOCK_NONE,\n",
    "                                         HarmCategory.HARM_CATEGORY_HARASSMENT: HarmBlockThreshold.BLOCK_NONE,\n",
    "                                         HarmCategory.HARM_CATEGORY_HATE_SPEECH: HarmBlockThreshold.BLOCK_NONE,\n",
    "                                         HarmCategory.HARM_CATEGORY_DANGEROUS_CONTENT: HarmBlockThreshold.BLOCK_NONE,\n",
    "    })\n",
    "    score.append(int(response.text))\n",
    "    \n",
    "    time.sleep(5)"
   ]
  },
  {
   "cell_type": "code",
   "execution_count": 7,
   "id": "78e511a4-9e89-403b-895f-0eea493e18e3",
   "metadata": {},
   "outputs": [],
   "source": [
    "test_result['score'] = score\n",
    "test_result.to_csv('./'+file_name+'.csv', encoding='utf-8',)"
   ]
  },
  {
   "cell_type": "code",
   "execution_count": 8,
   "id": "08ec2ebe-07e6-47e1-b64a-5120fbf2a8c3",
   "metadata": {},
   "outputs": [
    {
     "data": {
      "text/plain": [
       "np.float64(76.08)"
      ]
     },
     "execution_count": 8,
     "metadata": {},
     "output_type": "execute_result"
    }
   ],
   "source": [
    "test_result['score'].mean()"
   ]
  },
  {
   "cell_type": "code",
   "execution_count": null,
   "id": "2571b842-7855-468d-9a87-921f07d29944",
   "metadata": {},
   "outputs": [],
   "source": []
  }
 ],
 "metadata": {
  "kernelspec": {
   "display_name": "Python 3-torch",
   "language": "python",
   "name": "python3-torch"
  },
  "language_info": {
   "codemirror_mode": {
    "name": "ipython",
    "version": 3
   },
   "file_extension": ".py",
   "mimetype": "text/x-python",
   "name": "python",
   "nbconvert_exporter": "python",
   "pygments_lexer": "ipython3",
   "version": "3.12.3"
  }
 },
 "nbformat": 4,
 "nbformat_minor": 5
}
