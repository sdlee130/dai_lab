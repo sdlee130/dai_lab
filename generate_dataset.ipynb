{
 "cells": [
  {
   "cell_type": "code",
   "execution_count": 1,
   "id": "6a29b6d6-8fe3-4399-a572-22e35f61935f",
   "metadata": {},
   "outputs": [],
   "source": [
    "import logging\n",
    "logging.disable(logging.INFO)\n",
    "logging.disable(logging.WARNING)\n",
    "\n",
    "import warnings\n",
    "warnings.filterwarnings('ignore')\n",
    "\n",
    "import os\n",
    "os.environ[\"WANDB_DISABLED\"] = \"true\""
   ]
  },
  {
   "cell_type": "code",
   "execution_count": 2,
   "id": "cbe2301c-9ce0-4671-9814-35875ae2ec62",
   "metadata": {},
   "outputs": [],
   "source": [
    "import torch\n",
    "from transformers import BitsAndBytesConfig\n",
    "\n",
    "bnb_config = BitsAndBytesConfig(\n",
    "    load_in_4bit=True, \n",
    "    bnb_4bit_use_double_quant=True, \n",
    "    bnb_4bit_quant_type=\"nf4\", \n",
    "    bnb_4bit_compute_dtype=torch.bfloat16\n",
    ")"
   ]
  },
  {
   "cell_type": "code",
   "execution_count": 3,
   "id": "39adecfd-4917-4a7e-8877-4add7bd621b5",
   "metadata": {
    "scrolled": true
   },
   "outputs": [
    {
     "data": {
      "application/vnd.jupyter.widget-view+json": {
       "model_id": "595ed2616abd46fbbb0f78a1bd7825ef",
       "version_major": 2,
       "version_minor": 0
      },
      "text/plain": [
       "Loading checkpoint shards:   0%|          | 0/19 [00:00<?, ?it/s]"
      ]
     },
     "metadata": {},
     "output_type": "display_data"
    }
   ],
   "source": [
    "from transformers import AutoTokenizer, AutoModelForCausalLM\n",
    "\n",
    "# Load the model and tokenizer\n",
    "model_name = \"mistralai/Mixtral-8x7B-Instruct-v0.1\"\n",
    "tokenizer = AutoTokenizer.from_pretrained(model_name)\n",
    "model = AutoModelForCausalLM.from_pretrained(\n",
    "    model_name,\n",
    "    quantization_config=bnb_config,\n",
    "    use_cache=False,\n",
    "    use_flash_attention_2=True,\n",
    "    device_map='auto'\n",
    "    # device_map={\"\": PartialState().process_index},\n",
    ")"
   ]
  },
  {
   "cell_type": "code",
   "execution_count": 4,
   "id": "94a971ef-e52e-4c6f-a29b-b2cb16498337",
   "metadata": {
    "scrolled": true
   },
   "outputs": [
    {
     "data": {
      "application/vnd.jupyter.widget-view+json": {
       "model_id": "fac8a316310947e5b51d5ba7ef6542ea",
       "version_major": 2,
       "version_minor": 0
      },
      "text/plain": [
       "Resolving data files:   0%|          | 0/18 [00:00<?, ?it/s]"
      ]
     },
     "metadata": {},
     "output_type": "display_data"
    },
    {
     "data": {
      "application/vnd.jupyter.widget-view+json": {
       "model_id": "a7416220f68946f790c508973af541e7",
       "version_major": 2,
       "version_minor": 0
      },
      "text/plain": [
       "Resolving data files:   0%|          | 0/43 [00:00<?, ?it/s]"
      ]
     },
     "metadata": {},
     "output_type": "display_data"
    },
    {
     "name": "stdout",
     "output_type": "stream",
     "text": [
      "dataset size: 3000\n",
      "{'text': \" I've always been fascinated by insects, but ants have held a special place in my heart since I was young. My grandmother used to tell me stories about them while we tended her garden together. She would point out different species and explain how they worked as a collective unit - all thanks to those magical chemicals called pheromones.\\n\\nOne summer day, armed with my trusty magnifying glass (for close observation only!) and notebook, I decided to conduct an experiment inspired by Grandma's tales. I placed a piece of chocolate on one side of our yard, hoping to observe firsthand how these tiny creatures communicated using trail pheromones. It wasn't long before an adventurous ant found the treat and began laying down a scent trail back to the nest. Soon enough, a line of ants marched towards the chocolate, creating what looked like a miniature highway of industry.\\n\\nAs I watched, engrossed in their organized chaos, I noticed something peculiar happening at the edge of the yard – another group of ants had discovered a picnic blanket left unattended after lunch. They too started forming a trail leading to the abandoned feast. However, instead of merging with my original ant superhighway, they seemed determined to create their own path, despite crossing mine multiple times.\\n\\nThis is where things took an unexpected turn. Instead of simply ignoring each other's trails, both groups doubled down on their efforts! More ants joined in, reinforcing the existing trails until the air became thick with competing scents. What followed resembled more of a battlefield than two harmonious colonies working together. A war waged between rival factions over crumbs and cookie bits.\\n\\nConfused and slightly guilty (who knew ants could experience such animosity?), I realized there might not be a peaceful resolution. That evening, under the cover of darkness, I removed any evidence of human indulgence from the scene, leaving behind two exhausted armies without a cause.\\n\\nReflecting on this comical skirmish, I gained newfound appreciation for just how complex even small parts of nature can be. Even though ants rely heavily on chemical communication, external factors and competition still play significant roles in shaping their behavior. Just because they follow set patterns doesn't mean they don't face challenges or conflicts within their society. And sometimes, even with clear instructions laid out, misunderstandings happen.\\n\\nIn essence, ants aren't so different from us humans; we too navigate our world through various forms of communication, encounter disagreements, and make mistakes along the way. Our lives may seem vastly different due to scale and complexity, but maybe, just maybe, if we pay attention, we might learn something about ourselves from these minuscule messengers.\", 'prompt': 'Write a real-life story shared by someone in a reddit forum. The story should be somehow related to this text snippet: \\n“What are some ways that ants use pheromones to communicate with each other?\\n1. Trail pheromones: Ants use trail pheromones to mark a path to a food source or a new nesting site. By following the pheromone trail, other ants can quickly locate the same resource.\\n\\n2. Alarm pheromones: When an ant detects danger, it releases alarm pheromones that alert other ants in the colony. These pheromones help the other ants to locate the source of the danger and respond accordingly.\\n\\n3. Recruitment pheromones: Ants use recruitment pheromones to help the colony coordinate its efforts when foraging for food. Scouts will locate a food source and then return to the nest to lay a trail of recruitment pheromones, which encourage other ants to join in the search for food.\\n\\n4. Sex pheromones: Ants use sex pheromones to locate and attract mates. The queen ant releases pheromones to attract males during mating season, and individual ants also release sex pheromones to signal their availability for mating.\\n\\n5.”\\n\\nThe story should include: \\n- Niche interests or humor: dive into specific hobbies, interests, or humorous situations \\n- An unexpected plot twist or engaging conflict: introduce a relatable yet challenging situation or dilemma that the author faced. \\n- Reflection and insight: end with a resolution that offers a new understanding, a sense of community, or a personal revelation, much like the conclusions drawn in forum discussions.\\nStart the story right away.', 'text_token_length': 592, 'seed_data': 'ultrachat', 'format': 'story_reddit', 'audience': 'general'}\n"
     ]
    }
   ],
   "source": [
    "from datasets import load_dataset\n",
    "from random import randrange\n",
    "\n",
    "cosmopedia = load_dataset(\"HuggingFaceTB/cosmopedia\", \"stories\", split=\"train[:3000]\") # [:10%] 3000\n",
    "\n",
    "print(f\"dataset size: {len(cosmopedia)}\")\n",
    "print(cosmopedia[randrange(len(cosmopedia))])"
   ]
  },
  {
   "cell_type": "code",
   "execution_count": 5,
   "id": "99b635db-6a30-43d7-a89b-be3ac0cbf097",
   "metadata": {
    "scrolled": true
   },
   "outputs": [],
   "source": [
    "def create_prompt(example):\n",
    "    # Customize the prompt based on your specific needs\n",
    "    prompt_QA = f\"\"\"Story: {example['text']}\n",
    "      \n",
    "    Instructions:\n",
    "    1. Summarize the key details of the story above.\n",
    "    2. Based on the summary, create a question that captures a significant detail or event in the story. Keep the question concise.\n",
    "    3. Answer the question based on the story, using only a single phrase if possible.\n",
    "    4. I need only Question and Answer\n",
    "    \n",
    "    ---\n",
    "    \n",
    "    Question:\n",
    "    Answer:\n",
    "    \"\"\"\n",
    "\n",
    "    prompt_Summary_con = f\"\"\"You will be provided with a passage called Context. \\\n",
    "    Your task is to create a concise summary that encapsulates the main points and core ideas of the passage in a clear and coherent manner. \\\n",
    "    Ensure that the summary highlights any key events, lessons, or characters involved, using your own words.\n",
    "\n",
    "    Guidelines:\n",
    "    1. Focus on the most important details and avoid unnecessary elaboration.\n",
    "    2. Do not include minor details or specific examples unless they are crucial to understanding the overall context.\n",
    "    \n",
    "    ---\n",
    "    \n",
    "    Context: {example['text']}\n",
    "    Summary: Your concise summary here\n",
    "    \"\"\"\n",
    "\n",
    "    prompt_Summary = f\"\"\"Task: You will be provided with a passage called Context. Your task consists of two parts:\n",
    "    1. **Generate a Question or Instruction**: Create a single, clear question or instruction \\\n",
    "    that would prompt a summary of the given context.\n",
    "    2. **Provide the Summary**: Based on the generated question or instruction, \\\n",
    "    write a concise summary that captures the main points and essence of the passage.\n",
    "\n",
    "    Important:\n",
    "    - If you encounter any difficulties or if the question/instruction is unclear, \\\n",
    "    proceed to create a summary of the context anyway.\n",
    "    - **Always** produce a summary for the given context. \\\n",
    "    If you are unsure, summarize the core points as you understand them.\n",
    "\n",
    "    \n",
    "    Context:\n",
    "    {example['text']}\n",
    "\n",
    "    Generated Question/Instruction: Your concise generated question or instruction here\n",
    "\n",
    "    Summary: Your concise summary here\n",
    "\n",
    "    ---\n",
    "\n",
    "    Example 1:\n",
    "    Generated Question/Instruction: \"Discuss the key points of how Mia and Eric explored the integration of Artificial Intelligence (AI) in businesses, implementing it in Eric's startup.\"\n",
    "\n",
    "    Summary: Mia, a business consultant, and Eric, an entrepreneur, delved into the impact of AI on businesses over several meetings. \\\n",
    "    Eric initially expressed skepticism about over-reliance on machines due to potential job losses and the importance of human interaction. \\\n",
    "    However, Mia highlighted the benefits of AI such as improved productivity, cost savings, and enhanced decision-making abilities. \\\n",
    "    They agreed to use technology to augment rather than replace human capabilities. \\\n",
    "    Inspired by their discussions, they implemented changes in Eric's eco-friendly startup. \\\n",
    "    Initially, they introduced chatbots for customer queries, freeing up team members for complex issues. \\\n",
    "    This strategy proved successful as customers appreciated quick responses while employees felt valued. \\\n",
    "    They then leveraged machine learning for market trend analysis but ensured final decisions remained human-led. \\\n",
    "    This approach helped Eric's company thrive, demonstrating that AI could be utilized without compromising humanity or values.</s>\n",
    "\n",
    "    ---\n",
    "\n",
    "    Example 2:\n",
    "    Generated Question/Instruction: Summarize the story of Pirate Rick's quest to find and reclaim his treasure, \\\n",
    "    and include the lessons learned from his experiences.\n",
    "\n",
    "    Summary: Pirate Rick buried his treasure after a long search, but a tropical storm and a tsunami altered its location. \\\n",
    "    Determined, Rick resumed digging and spent three hours uncovering his loot, only to find it stolen by other pirates. \\\n",
    "    This series of events teaches us that, despite our efforts, unforeseen circumstances can make goals difficult to achieve. \\\n",
    "    However, learning from these experiences contributes to personal growth and problem-solving skills.</s>\n",
    "\n",
    "    ---\n",
    "\n",
    "    Example 3:\n",
    "    Generated Question/Instruction: Explain how Jack and Oliver's discussion about different car models, \\\n",
    "    specifically Model X and Model Y, led to a change in their approach when consulting clients.\n",
    "\n",
    "    Summary: Jack and Oliver, two car enthusiasts from Autoville, debated the superiority of Model X over Model Y based on minor differences in speed. \\\n",
    "    Jack calculated percentages to prove his point but Oliver argued that real-world conditions like wind resistance and terrain were more significant. \\\n",
    "    They decided to emphasize other aspects such as safety features, fuel efficiency, comfort, design, and overall value when advising clients. \\\n",
    "    This balanced approach led to increased trust and satisfaction among the community. \\\n",
    "    The incident served as a reminder that understanding context is crucial and became a lesson for them and those seeking their guidance. \\\n",
    "    Subsequently, Jack and Oliver ensured considering all relevant factors before jumping to conclusions.</s>\n",
    "\n",
    "    ---\n",
    "\n",
    "    Example 4:\n",
    "    Generated Question/Instruction: \"Describe the situation Nathan Drake is in and how he uses strategy to survive.\"\n",
    "\n",
    "    Summary: Nathan Drake, a protagonist who has presumably faced numerous challenging situations before, finds himself hiding from an armored enemy. With limited ammunition, he recalls his mentor's advice about thinking creatively. \\\n",
    "    He lures the guard away by shooting near him, then uses the opportunity to dash across an open space towards cover. \\\n",
    "    After the guard returns, Drake stealthily approaches and knocks him out. \\\n",
    "    This scenario highlights Drake's survival skills and strategic thinking, although it also raises questions about the morality of his actions.</s>\n",
    "\n",
    "    ---\n",
    "\n",
    "    Example 5:\n",
    "    Generated Question/Instruction: \"Describe the creative process that the marketing team for GreenTech used to overcome their struggle in creating a new campaign slogan.\"\n",
    "\n",
    "    Summary: The GreenTech marketing team, led by their manager Sarah, was stuck in creating a new campaign slogan. \\\n",
    "    To stimulate creativity, Sarah introduced mind mapping where each member wrote down related ideas branching off from the main goal of increasing sustainability awareness. \\\n",
    "    They found a recurring theme of nature in their mind maps. Next, they did a random word exercise using the word \"ocean,\" which led to associations of growth and change. \\\n",
    "    Applying this to their task, they conceptualized a campaign focusing on how adopting sustainable practices allows businesses and communities to grow and adapt. \\\n",
    "    The day ended with role-playing exercises, resulting in a powerful campaign centered around the theme of growth and adaptation.</s>\n",
    "    \"\"\"\n",
    "\n",
    "    prompt_trec = f\"\"\"You are a dataset generator. I want a dataset similar to the TREC dataset, which contains 50 fine-grained question types. \n",
    "    Here is the full list of question types:\n",
    "    \n",
    "    - Abbreviation (e.g., Expression abbreviated)\n",
    "      - Animal\n",
    "      - Organ of body\n",
    "      - Color\n",
    "      - Invention, book, and other creative pieces\n",
    "      - Currency name\n",
    "      - Disease and medicine\n",
    "      - Event\n",
    "      - Food\n",
    "      - Musical instrument\n",
    "      - Language\n",
    "      - Letter like a-z\n",
    "      - Plant\n",
    "      - Product\n",
    "      - Religion\n",
    "      - Sport\n",
    "      - Element and substance\n",
    "      - Symbols and sign\n",
    "      - Techniques and method\n",
    "      - Equivalent term\n",
    "      - Vehicle\n",
    "      - Word with a special property\n",
    "      - Definition of something\n",
    "      - Description of something\n",
    "      - Manner of an action\n",
    "      - Reason\n",
    "      - Group or organization of persons\n",
    "      - Individual\n",
    "      - Title of a person\n",
    "      - Description of a person\n",
    "      - City\n",
    "      - Country\n",
    "      - Mountain\n",
    "      - Other location\n",
    "      - State\n",
    "      - Postcode or other code\n",
    "      - Number of something\n",
    "      - Date\n",
    "      - Distance, linear measure\n",
    "      - Price\n",
    "      - Order, rank\n",
    "      - Other number\n",
    "      - Lasting time of something\n",
    "      - Percent, fraction\n",
    "      - Speed\n",
    "      - Temperature\n",
    "      - Size, area, and volume\n",
    "      - Weight\n",
    "    \n",
    "    ### Task:\n",
    "    Given a Context, generate a question based on the information provided. \\\n",
    "    Then, decide on the most appropriate question type from the TREC list based on the nature of the question. \n",
    "    Ensure that:\n",
    "    1. The question is directly related to the Context provided.\n",
    "    2. The question type matches the specific category from the list of TREC question types.\n",
    "    3. Use detailed and relevant examples to guide your question generation, avoiding generic or vague questions.\n",
    "    4. Be concise and precise with both the question and the question type selection.\n",
    "    \n",
    "    ### Example:\n",
    "    Context: \n",
    "    {example['text']}\n",
    "    \n",
    "    ---\n",
    "    \n",
    "    Question: \n",
    "    [Write a detailed and specific question based on the context]\n",
    "    \n",
    "    Question Type: \n",
    "    [Select one from the list above, matching the question generated]\n",
    "\n",
    "    \"\"\"\n",
    "    \n",
    "    \n",
    "    messages = [{\"role\": \"user\", \"content\": prompt_trec}]\n",
    "\n",
    "    return messages"
   ]
  },
  {
   "cell_type": "code",
   "execution_count": 6,
   "id": "31695e96-0782-47fb-876b-5eecf81c595c",
   "metadata": {
    "scrolled": true
   },
   "outputs": [
    {
     "name": "stderr",
     "output_type": "stream",
     "text": [
      "                                                          "
     ]
    },
    {
     "name": "stdout",
     "output_type": "stream",
     "text": [
      "<s><s> [INST] You are a dataset generator. I want a dataset similar to the TREC dataset, which contains 50 fine-grained question types. \n",
      "    Here is the full list of question types:\n",
      "    \n",
      "    - Abbreviation (e.g., Expression abbreviated)\n",
      "      - Animal\n",
      "      - Organ of body\n",
      "      - Color\n",
      "      - Invention, book, and other creative pieces\n",
      "      - Currency name\n",
      "      - Disease and medicine\n",
      "      - Event\n",
      "      - Food\n",
      "      - Musical instrument\n",
      "      - Language\n",
      "      - Letter like a-z\n",
      "      - Plant\n",
      "      - Product\n",
      "      - Religion\n",
      "      - Sport\n",
      "      - Element and substance\n",
      "      - Symbols and sign\n",
      "      - Techniques and method\n",
      "      - Equivalent term\n",
      "      - Vehicle\n",
      "      - Word with a special property\n",
      "      - Definition of something\n",
      "      - Description of something\n",
      "      - Manner of an action\n",
      "      - Reason\n",
      "      - Group or organization of persons\n",
      "      - Individual\n",
      "      - Title of a person\n",
      "      - Description of a person\n",
      "      - City\n",
      "      - Country\n",
      "      - Mountain\n",
      "      - Other location\n",
      "      - State\n",
      "      - Postcode or other code\n",
      "      - Number of something\n",
      "      - Date\n",
      "      - Distance, linear measure\n",
      "      - Price\n",
      "      - Order, rank\n",
      "      - Other number\n",
      "      - Lasting time of something\n",
      "      - Percent, fraction\n",
      "      - Speed\n",
      "      - Temperature\n",
      "      - Size, area, and volume\n",
      "      - Weight\n",
      "    \n",
      "    ### Task:\n",
      "    Given a Context, generate a question based on the information provided.     Then, decide on the most appropriate question type from the TREC list based on the nature of the question. \n",
      "    Ensure that:\n",
      "    1. The question is directly related to the Context provided.\n",
      "    2. The question type matches the specific category from the list of TREC question types.\n",
      "    3. Use detailed and relevant examples to guide your question generation, avoiding generic or vague questions.\n",
      "    4. Be concise and precise with both the question and the question type selection.\n",
      "    \n",
      "    ### Example:\n",
      "    Context: \n",
      "     Once upon a time, in a village called Kiwiland, there lived two best friends named Kiwi and Koala. They loved exploring the world around them and learning new things every day! One day, they stumbled upon a magical forest full of vibrant colors and fascinating creatures. As they ventured deeper into the forest, they met Torty, a wise old turtle who was known to have answers to all questions.\n",
      "\n",
      "Kiwi asked Torty, \"How does our culture affect the way we make decisions?\" Torty smiled and replied, \"Well my dear friend, let me tell you a story.\"\n",
      "\n",
      "Long ago, in another part of the forest, there were two tribes - the Hares and the Sloths. The Hares valued speed and quickness, believing that swift actions led to success. On the other hand, the Sloths cherished patience and deliberation, thinking that slow yet thoughtful decisions brought prosperity.\n",
      "\n",
      "One sunny afternoon, both tribes faced a challenge – sharing a limited supply of fruits between them. The Hares wanted to divide the fruits quickly so they could move on to their next adventure. Meanwhile, the Sloths preferred taking ample time to ensure fairness and satisfaction among everyone involved. Their contrasting approaches caused tension and disagreements until they realized something important.\n",
      "\n",
      "Together, they discovered that neither rushing nor delaying decisions guaranteed perfection. Instead, finding a balance between haste and caution proved essential. By respecting each other's perspectives, they created harmony and shared resources wisely. Since then, these neighboring tribes learned valuable lessons about embracing diversity and understanding cultural differences when making decisions together.\n",
      "\n",
      "\"Ah!\" said Kiwi excitedly, \"So acknowledging various viewpoints helps us make better decisions.\" Torty nodded approvingly before adding one final piece of wisdom.\n",
      "\n",
      "\"Yes, indeed,\" he continued. \"But remember, even after considering diverse opinions, sometimes outcomes won't turn out as desired. That's when resilience comes in handy—learning from those experiences and moving forward positively teaches us humility and growth.\"\n",
      "\n",
      "With wide eyes filled with curiosity, Koala wondered aloud, \"What happens if someone still isn't happy despite trying hard?\" Smiling softly, Torty answered, \"That's life's unexpected twist, dear Koala. We must accept it graciously because failure paves the pathway towards improvement and progress.\"\n",
      "    \n",
      "    ---\n",
      "    \n",
      "    Question: \n",
      "    [Write a detailed and specific question based on the context]\n",
      "    \n",
      "    Question Type: \n",
      "    [Select one from the list above, matching the question generated]\n",
      "\n",
      "     [/INST] Question: Even after considering diverse opinions, if someone still isn't happy despite trying hard, what should they do according to Torty's wisdom?\n",
      "\n",
      "Question Type: Other number (because the answer involves accepting an unspecified number of life's unexpected twists with grace)</s>\n"
     ]
    },
    {
     "name": "stderr",
     "output_type": "stream",
     "text": [
      "\r"
     ]
    }
   ],
   "source": [
    "from tqdm import tqdm\n",
    "\n",
    "result = []\n",
    "\n",
    "for i in tqdm(range(len(cosmopedia)), leave=False):\n",
    "    messages = create_prompt(cosmopedia[i])\n",
    "    input_text = tokenizer.apply_chat_template(messages, tokenize=False)\n",
    "    inputs = tokenizer.encode(input_text, return_tensors=\"pt\")\n",
    "    generated_ids = model.generate(inputs, max_new_tokens=4096, temperature=0.2, top_p=0.9, do_sample=True)\n",
    "\n",
    "    generated_text = tokenizer.decode(generated_ids[0].tolist())\n",
    "    result.append(generated_text)\n",
    "\n",
    "print(result[0])"
   ]
  },
  {
   "cell_type": "code",
   "execution_count": 7,
   "id": "46728dec-2477-4d32-a5b4-436e207d1c89",
   "metadata": {
    "scrolled": true
   },
   "outputs": [
    {
     "data": {
      "text/plain": [
       "'<s><s> [INST] You are a dataset generator. I want a dataset similar to the TREC dataset, which contains 50 fine-grained question types. \\n    Here is the full list of question types:\\n    \\n    - Abbreviation (e.g., Expression abbreviated)\\n      - Animal\\n      - Organ of body\\n      - Color\\n      - Invention, book, and other creative pieces\\n      - Currency name\\n      - Disease and medicine\\n      - Event\\n      - Food\\n      - Musical instrument\\n      - Language\\n      - Letter like a-z\\n      - Plant\\n      - Product\\n      - Religion\\n      - Sport\\n      - Element and substance\\n      - Symbols and sign\\n      - Techniques and method\\n      - Equivalent term\\n      - Vehicle\\n      - Word with a special property\\n      - Definition of something\\n      - Description of something\\n      - Manner of an action\\n      - Reason\\n      - Group or organization of persons\\n      - Individual\\n      - Title of a person\\n      - Description of a person\\n      - City\\n      - Country\\n      - Mountain\\n      - Other location\\n      - State\\n      - Postcode or other code\\n      - Number of something\\n      - Date\\n      - Distance, linear measure\\n      - Price\\n      - Order, rank\\n      - Other number\\n      - Lasting time of something\\n      - Percent, fraction\\n      - Speed\\n      - Temperature\\n      - Size, area, and volume\\n      - Weight\\n    \\n    ### Task:\\n    Given a Context, generate a question based on the information provided.     Then, decide on the most appropriate question type from the TREC list based on the nature of the question. \\n    Ensure that:\\n    1. The question is directly related to the Context provided.\\n    2. The question type matches the specific category from the list of TREC question types.\\n    3. Use detailed and relevant examples to guide your question generation, avoiding generic or vague questions.\\n    4. Be concise and precise with both the question and the question type selection.\\n    \\n    ### Example:\\n    Context: \\n     Once upon a time, in a village called Kiwiland, there lived two best friends named Kiwi and Koala. They loved exploring the world around them and learning new things every day! One day, they stumbled upon a magical forest full of vibrant colors and fascinating creatures. As they ventured deeper into the forest, they met Torty, a wise old turtle who was known to have answers to all questions.\\n\\nKiwi asked Torty, \"How does our culture affect the way we make decisions?\" Torty smiled and replied, \"Well my dear friend, let me tell you a story.\"\\n\\nLong ago, in another part of the forest, there were two tribes - the Hares and the Sloths. The Hares valued speed and quickness, believing that swift actions led to success. On the other hand, the Sloths cherished patience and deliberation, thinking that slow yet thoughtful decisions brought prosperity.\\n\\nOne sunny afternoon, both tribes faced a challenge – sharing a limited supply of fruits between them. The Hares wanted to divide the fruits quickly so they could move on to their next adventure. Meanwhile, the Sloths preferred taking ample time to ensure fairness and satisfaction among everyone involved. Their contrasting approaches caused tension and disagreements until they realized something important.\\n\\nTogether, they discovered that neither rushing nor delaying decisions guaranteed perfection. Instead, finding a balance between haste and caution proved essential. By respecting each other\\'s perspectives, they created harmony and shared resources wisely. Since then, these neighboring tribes learned valuable lessons about embracing diversity and understanding cultural differences when making decisions together.\\n\\n\"Ah!\" said Kiwi excitedly, \"So acknowledging various viewpoints helps us make better decisions.\" Torty nodded approvingly before adding one final piece of wisdom.\\n\\n\"Yes, indeed,\" he continued. \"But remember, even after considering diverse opinions, sometimes outcomes won\\'t turn out as desired. That\\'s when resilience comes in handy—learning from those experiences and moving forward positively teaches us humility and growth.\"\\n\\nWith wide eyes filled with curiosity, Koala wondered aloud, \"What happens if someone still isn\\'t happy despite trying hard?\" Smiling softly, Torty answered, \"That\\'s life\\'s unexpected twist, dear Koala. We must accept it graciously because failure paves the pathway towards improvement and progress.\"\\n    \\n    ---\\n    \\n    Question: \\n    [Write a detailed and specific question based on the context]\\n    \\n    Question Type: \\n    [Select one from the list above, matching the question generated]\\n\\n     [/INST] Question: Even after considering diverse opinions, if someone still isn\\'t happy despite trying hard, what should they do according to Torty\\'s wisdom?\\n\\nQuestion Type: Other number (because the answer involves accepting an unspecified number of life\\'s unexpected twists with grace)</s>'"
      ]
     },
     "execution_count": 7,
     "metadata": {},
     "output_type": "execute_result"
    }
   ],
   "source": [
    "result[0]"
   ]
  },
  {
   "cell_type": "code",
   "execution_count": 8,
   "id": "4723d40a-35d9-4b49-8ef5-3185ce798ebb",
   "metadata": {
    "scrolled": true
   },
   "outputs": [
    {
     "data": {
      "text/plain": [
       "\"<s><s> [INST] You are a dataset generator. I want a dataset similar to the TREC dataset, which contains 50 fine-grained question types. \\n    Here is the full list of question types:\\n    \\n    - Abbreviation (e.g., Expression abbreviated)\\n      - Animal\\n      - Organ of body\\n      - Color\\n      - Invention, book, and other creative pieces\\n      - Currency name\\n      - Disease and medicine\\n      - Event\\n      - Food\\n      - Musical instrument\\n      - Language\\n      - Letter like a-z\\n      - Plant\\n      - Product\\n      - Religion\\n      - Sport\\n      - Element and substance\\n      - Symbols and sign\\n      - Techniques and method\\n      - Equivalent term\\n      - Vehicle\\n      - Word with a special property\\n      - Definition of something\\n      - Description of something\\n      - Manner of an action\\n      - Reason\\n      - Group or organization of persons\\n      - Individual\\n      - Title of a person\\n      - Description of a person\\n      - City\\n      - Country\\n      - Mountain\\n      - Other location\\n      - State\\n      - Postcode or other code\\n      - Number of something\\n      - Date\\n      - Distance, linear measure\\n      - Price\\n      - Order, rank\\n      - Other number\\n      - Lasting time of something\\n      - Percent, fraction\\n      - Speed\\n      - Temperature\\n      - Size, area, and volume\\n      - Weight\\n    \\n    ### Task:\\n    Given a Context, generate a question based on the information provided.     Then, decide on the most appropriate question type from the TREC list based on the nature of the question. \\n    Ensure that:\\n    1. The question is directly related to the Context provided.\\n    2. The question type matches the specific category from the list of TREC question types.\\n    3. Use detailed and relevant examples to guide your question generation, avoiding generic or vague questions.\\n    4. Be concise and precise with both the question and the question type selection.\\n    \\n    ### Example:\\n    Context: \\n     Back when I was working on Senator Thompson's reelection campaign in 2018, we were all about embracing digital technologies to connect with our constituents and stay competitive. We had a solid social media presence across multiple platforms like Twitter, Facebook, and Instagram, where we shared everything from policy proposals to town hall meeting recaps. Our team believed that being active digitally would help us engage better with potential voters and strengthen our support base. And boy, did it ever!\\n\\nOur campaign volunteer coordinator, Jamie, came up with an innovative idea - she suggested hosting live Q&A sessions via Instagram Stories, allowing followers to ask questions directly to the senator. It turned out to be a game changer; not only did it boost engagement metrics but also helped build trust among younger demographics who appreciated having direct access to the candidate. This strategy paid off handsomely during early voting, giving us a comfortable lead over our opponents.\\n\\nAnother area where technology played a crucial role was online fundraising. Gone were the days of knocking door-to-door or making countless phone calls asking for contributions. Instead, we focused on creating user-friendly donation forms integrated into our website and promoted them through emails and social media posts. Watching those numbers climb every day became both exhilarating and nerve-wracking at the same time. But then again, isn't politics always a rollercoaster ride?\\n\\nHowever, there was one aspect of digital campaigning no one could prepare us for – the dark side of social media. A few weeks before Election Day, someone hacked into our official Twitter account and started posting offensive content that didn't align with our values or message. Panic ensued within our team, knowing how much damage this could cause to our reputation and chances of winning.\\n\\nIn what felt like hours but must have been mere minutes, we managed to regain control of the account and delete the malicious tweets. However, screenshots had already spread far beyond our ability to contain them. That night, instead of celebrating another successful day on the campaign trail, we huddled together, brainstorming crisis management strategies while fielding angry messages from supporters demanding answers.\\n\\nDespite our best efforts, the incident left a sour taste amongst some undecided voters, causing a slight dip in polling numbers. Yet, something surprising happened afterwards – many more people rallied behind us, expressing sympathy and outrage over the attack. Their vocal support reminded us why we got involved in politics in the first place: to make a difference, even if it meant facing challenges along the way.\\n\\nSo yes, digital technologies transformed political party campaigns and outreach in unforeseen ways, offering opportunities for deeper connections yet exposing vulnerabilities never imagined before. Looking back, I wouldn't change a thing because ultimately, it taught us valuable lessons about resilience, adaptability, and community spirit.\\n    \\n    ---\\n    \\n    Question: \\n    [Write a detailed and specific question based on the context]\\n    \\n    Question Type: \\n    [Select one from the list above, matching the question generated]\\n\\n     [/INST] Question: What kind of direct access to the candidate did campaign volunteer coordinator Jamie introduce through digital technologies?\\nQuestion Type: Individual\\n\\nQuestion: How did the team manage the situation when their official Twitter account was hacked and started posting offensive content?\\nQuestion Type: Lasting time of something</s>\""
      ]
     },
     "execution_count": 8,
     "metadata": {},
     "output_type": "execute_result"
    }
   ],
   "source": [
    "# 1/0\n",
    "result[709]"
   ]
  },
  {
   "cell_type": "code",
   "execution_count": 9,
   "id": "acad877e-ffe2-4180-a647-dba5e1697b50",
   "metadata": {},
   "outputs": [],
   "source": [
    "import pandas as pd\n",
    "\n",
    "generated_dataset = pd.DataFrame()"
   ]
  },
  {
   "cell_type": "code",
   "execution_count": 10,
   "id": "160862a4-26be-41da-b083-ac8cf17edf79",
   "metadata": {
    "scrolled": true
   },
   "outputs": [],
   "source": [
    "# DocQA_cos\n",
    "\n",
    "# question = []\n",
    "# answer = []\n",
    "# content = []\n",
    "\n",
    "# for i in range(len(result)):\n",
    "#     text = result[i].split('[/INST]')[1].split('Question:')[1]\n",
    "#     if 'Answer' in text:\n",
    "#         question.append(text.split('Answer:')[0])\n",
    "#         answer.append(text.split('Answer:')[1].split('</s>')[0])\n",
    "#         content.append(cosmopedia[i]['text'])\n",
    "#     else:\n",
    "#         continue\n",
    "\n",
    "\n",
    "# generated_dataset['Question'] = question\n",
    "# generated_dataset['Answer'] = answer\n",
    "# generated_dataset['Content'] = content"
   ]
  },
  {
   "cell_type": "code",
   "execution_count": 11,
   "id": "86996035-f3c5-48b9-b99a-1cbc7a3bb631",
   "metadata": {},
   "outputs": [],
   "source": [
    "# summary_con_cos\n",
    "\n",
    "# summary = []\n",
    "# content = []\n",
    "\n",
    "# for i in range(len(result)):\n",
    "#     text = result[i].split('[/INST]')[1].split('</s>')[0]\n",
    "#     summary.append(text)\n",
    "#     content.append(cosmopedia[i]['text'])\n",
    "\n",
    "# generated_dataset['Summary'] = summary\n",
    "# generated_dataset['Content'] = content"
   ]
  },
  {
   "cell_type": "code",
   "execution_count": 12,
   "id": "abfd87f5-5d09-4c03-a676-019b5da6f88f",
   "metadata": {
    "scrolled": true
   },
   "outputs": [],
   "source": [
    "# summary_cos\n",
    "\n",
    "# summary = []\n",
    "# input_seq = []\n",
    "# content = []\n",
    "\n",
    "# for i in range(len(result)):\n",
    "#     print(i)\n",
    "#     text = result[i].split('[/INST]')[1].split('Generated Question/Instruction:')[1]\n",
    "#     if 'Summary:' in text:\n",
    "#         input_seq.append(text.split('Summary:')[0])\n",
    "#         summary.append(text.split('Summary:')[1].split('</s>')[0])\n",
    "#         content.append(cosmopedia[i]['text'])\n",
    "#     else:\n",
    "#         continue\n",
    "\n",
    "# generated_dataset['Summary'] = summary\n",
    "# generated_dataset['Input'] = input_seq\n",
    "# generated_dataset['Content'] = content"
   ]
  },
  {
   "cell_type": "code",
   "execution_count": 13,
   "id": "6c22ac3d-14c2-47ff-89d2-169ef82774a6",
   "metadata": {},
   "outputs": [
    {
     "data": {
      "text/plain": [
       "\" Question: Why might the Wordlings consider words without the letter 'e' to have stronger meanings?\\nQuestion Type: Word with a special property</s>\""
      ]
     },
     "execution_count": 13,
     "metadata": {},
     "output_type": "execute_result"
    }
   ],
   "source": [
    "result[1].split('[/INST]')[1]"
   ]
  },
  {
   "cell_type": "code",
   "execution_count": null,
   "id": "4016e92d-845d-4409-91f3-1114d0236e06",
   "metadata": {
    "scrolled": true
   },
   "outputs": [],
   "source": [
    "# TREC_cos\n",
    "\n",
    "question = []\n",
    "type = []\n",
    "content = []\n",
    "\n",
    "for i in range(len(result)):\n",
    "    text = result[i].split('[/INST]')[1].split('Question:')[1]\n",
    "    #print(i)\n",
    "    if 'Question Type' in text:\n",
    "        question.append(text.split('Question Type:')[0])\n",
    "        type.append(text.split('Question Type:')[1].split('</s>')[0])\n",
    "        content.append(cosmopedia[i]['text'])\n",
    "    else:\n",
    "        continue\n",
    "\n",
    "\n",
    "generated_dataset['Question'] = question\n",
    "generated_dataset['Question_Type'] = type\n",
    "generated_dataset['Content'] = content"
   ]
  },
  {
   "cell_type": "code",
   "execution_count": 15,
   "id": "9f51a05f-66eb-4e8f-ab93-8009bd194874",
   "metadata": {},
   "outputs": [],
   "source": [
    "# TriviaQA_cos\n",
    "\n"
   ]
  },
  {
   "cell_type": "code",
   "execution_count": 16,
   "id": "76b4ca92-857a-4257-a082-e5ee7421b0ee",
   "metadata": {},
   "outputs": [],
   "source": [
    "# SAMSum_cos"
   ]
  },
  {
   "cell_type": "code",
   "execution_count": 17,
   "id": "0fefb4c5-d435-4348-8933-bfe88537350c",
   "metadata": {},
   "outputs": [],
   "source": [
    "# PassageCount_cos"
   ]
  },
  {
   "cell_type": "code",
   "execution_count": 18,
   "id": "a6c97df6-4b16-4344-b1e6-80394c96f439",
   "metadata": {},
   "outputs": [],
   "source": [
    "# PassageRetrieval-en_cos"
   ]
  },
  {
   "cell_type": "code",
   "execution_count": 19,
   "id": "e3fbcaa8-3032-40af-9cf9-42e3b3b9d2b4",
   "metadata": {},
   "outputs": [],
   "source": [
    "file_name = [\n",
    "    'DocQA_cos', # NarrativeQA Qasper MultiField-en HotpotQA 2WikiMultihopQA MuSiQue\n",
    "    'summay_con_cos', # GovReport MultiNews\n",
    "    'summay_cos', # QMSum_cos\n",
    "    'TREC_cos',\n",
    "    'TriviaQA_cos',\n",
    "    'SAMSum_cos',\n",
    "    'PassageCount_cos',\n",
    "    'PassageRetrieval-en_cos',\n",
    "]\n",
    "# 0 1 2 3\n",
    "\n",
    "generated_dataset.to_csv('./dataset/'+file_name[3]+'.csv', encoding='utf-8',)"
   ]
  },
  {
   "cell_type": "code",
   "execution_count": null,
   "id": "f012bf58-730b-4f60-8f86-a890be8b9aa0",
   "metadata": {},
   "outputs": [],
   "source": []
  },
  {
   "cell_type": "code",
   "execution_count": null,
   "id": "92927cac-9ad3-463b-8dc6-7080abc4ac9f",
   "metadata": {},
   "outputs": [],
   "source": []
  }
 ],
 "metadata": {
  "kernelspec": {
   "display_name": "Python3 torch",
   "language": "python",
   "name": "python3-torch"
  },
  "language_info": {
   "codemirror_mode": {
    "name": "ipython",
    "version": 3
   },
   "file_extension": ".py",
   "mimetype": "text/x-python",
   "name": "python",
   "nbconvert_exporter": "python",
   "pygments_lexer": "ipython3",
   "version": "3.8.10"
  }
 },
 "nbformat": 4,
 "nbformat_minor": 5
}
